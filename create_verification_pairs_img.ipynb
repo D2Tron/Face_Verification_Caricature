{
 "cells": [
  {
   "cell_type": "code",
   "execution_count": 1,
   "metadata": {},
   "outputs": [],
   "source": [
    "import os\n",
    "import random\n",
    "import csv"
   ]
  },
  {
   "cell_type": "code",
   "execution_count": 2,
   "metadata": {},
   "outputs": [],
   "source": [
    "#List of identities in the test set\n",
    "identities = ['yao_ming', 'neil_patrick_harris', 'mao', 'dr._phil', 'david_tennant', 'benedict_cumberbatch', 'alexandria_ocasio-cortez', 'alfred_hitchcock', 'kaley_cuoco', 'nancy_pelosi', 'ben_affleck', 'melania_trump', 'xi_jinping', 'rainn_wilson', 'betty_white', 'sarah_jessica_parker', 'cameron_diaz', 'denzel_washington', 'eddie_murphy', 'fergie', 'sarah_palin', 'alec_baldwin', 'bill_clinton', 'pat_morita', 'christina_aguilera', 'julianne_moore', 'amy_poehler', 'steven_tyler', 'luis_suarez', 'selena', 'johnny_depp', 'stan_lee', 'helena_bonham_carter', 'ru_paul', 'chuck_norris', 'billie_eilish', 'snoop_dogg', 'jay_z', 'mark_hamill', 'salman_rushdie', 'gal_gadot', 'justin_timberlake', 'lena_headey', 'julian_assange', 'michelle_obama', 'adam_sandler', 'willem_dafoe', 'shakira', 'lucy_liu', 'sandra_oh', 'halle_berry', 'john_krasinski', 'julia_roberts', 'dwayne_johnson', 'barack_obama', 'sophie_turner', 'george_w._bush', 'angela_merkel', 'samuel_l_jackson', 'beyonce', 'katy_perry', 'mariah_carey', 'anderson_cooper', 'will_smith', 'bob_marley', 'chris_rock', 'natalie_dormer', 'leslie_nielsen', 'aishwarya_rai', 'duterte', 'scarlett_johansson', 'rosario_dawson', 'ajit_pai', 'carrie_fisher', 'danny_trejo', 'adele', 'anthony_davis', 'emilia_clarke', 'kanye_west', 'mitch_mcconnell', 'sofia_vergara', 'steve_buscemi', 'tina_turner', 'jackie_chan', 'michael_bloomberg', 'meghan_markle', 'melissa_mccarthy', 'prince_charles', 'george_takei', 'conor_mcgregor', 'john_mcenroe', 'nicki_minaj', 'seann_william_scott', 'cher', 'angelina_jolie', 'gandhi', 'tracy_morgan', 'ellen_degeneres', 'sharon_osbourne', 'aamir_khan', 'leonardo_dicaprio', 'priyanka_chopra', 'sandra_bullock', 'che_guevara', 'ice_cube', 'mike_pence', 'bruno_mars', 'kit_harington', 'john_wayne', 'selena_gomez', 'woody_allen', 'britney_spears', 'rihanna', 'peter_dinklage', 'tom_holland', 'cristiano_ronaldo', 'patrick_stewart', 'matt_damon', 'george_rr_martin', 'keanu_reeves', 'vladimir_putin', 'norah_jones', 'ted_cruz', 'awkwafina', 'rashida_jones', 'steven_yeun', 'queen_latifah', 'paris_hilton', 'elizabeth_warren', 'ellen_page', 'lady_gaga', 'yo-yo_ma', 'condoleezza_rice', 'dalai_lama', 'keira_knightley', 'maisie_williams', 'prince', 'lionel_messi', 'lebron_james', 'marilyn_monroe', 'neymar', 'jimi_hendrix', 'wesley_snipes', 'zoe_saldana', 'bruce_lee', 'pele', 'michelle_rodriguez', 'hillary_clinton', 'renee_zellweger', 'kim_jong_un', 'steve_carell', 'madonna', 'marc_anthony', 'mark_zuckerberg', 'david_hasselhoff', 'ariana_grande', 'miley_cyrus', 'johnny_galecki', 'harrison_ford', 'tom_cruise', 'ozzy_osbourne', 'anne_hathaway', 'hulk_hogan', 'shigeru_miyamoto', 'eva_mendes', 'nick_offerman', 'kristen_stewart', 'narendra_modi', 'william_shatner', 'matt_smith', 'chris_tucker', 'ava_gardner', 'emma_watson', 'dave_chappelle', 'jennifer_aniston', 'jim_parsons', 'chris_pratt', 'jessica_alba', 'kobe_bryant', 'whoopi_goldberg', 'ryan_reynolds', 'bernie_sanders', 'terry_crews', 'psy', 'george_clooney', 'diego_maradona', 'richard_nixon', 'aubrey_plaza', 'cuba_gooding_jr', 'mila_kunis', 'jennifer_lopez', 'nicole_kidman', 'oprah', 'george_lopez', 'meryl_streep', 'aziz_ansari', 'john_f._kennedy', 'brad_pitt', 'megan_fox', 'kristen_bell', 'andy_samberg', 'eminem', 'taylor_swift', 'jason_momoa', 'jennifer_garner', 'benicio_del_toro', 'john_goodman', 'tina_fey', 'whitney_houston', 'james_dean', 'tilda_swinton', 'chow_yun', 'shahrukh_khan', 'janet_jackson', 'tom_hiddleston', 'robert_downey_jr.', 'chris_hemsworth', 'adam_driver', 'fidel_castro', 'morgan_freeman', 'kirsten_dunst', 'deng_xiaoping', 'justin_trudeau', 'vin_diesel', 'ronald_reagan', 'penelope_cruz', 'salma_hayek', 'daisy_ridley', 'michael_jackson']\n",
    "identities = sorted(identities)"
   ]
  },
  {
   "cell_type": "code",
   "execution_count": 3,
   "metadata": {},
   "outputs": [],
   "source": [
    "# Create a CSV file to store the pairs\n",
    "csv_file = './saved_lists/verification_pairs_img.csv'\n",
    "with open(csv_file, mode='w', newline='') as file:\n",
    "    writer = csv.writer(file)\n",
    "    writer.writerow(['ver_image_path', 'car_image_path', 'label'])  # Write header\n",
    "\n",
    "    # Iterate over each identity\n",
    "    for identity in identities:\n",
    "        real_folder = os.path.join('./ourcar/', identity)\n",
    "        caricature_folder = os.path.join('./ourcar/', f'{identity}_caricature')\n",
    "\n",
    "        # Get a list of real and caricature image filenames\n",
    "        real_images = os.listdir(real_folder)\n",
    "        caricature_images = os.listdir(caricature_folder)\n",
    "\n",
    "        # Shuffle the image filenames for reproducibility\n",
    "        random.seed(42)\n",
    "        random.shuffle(real_images)\n",
    "        test_real_image = real_images[4]\n",
    "\n",
    "        random.seed(42)\n",
    "        random.shuffle(caricature_images)\n",
    "        # Select the fifth image for the test set (image split)\n",
    "        test_caricature_image = caricature_images[4]  # Select the fifth caricature image\n",
    "\n",
    "        # Choose a random identity for incorrect pair\n",
    "        identity_seed = hash(identity)  # Use identity hash as a seed for randomness\n",
    "        random.seed(identity_seed)\n",
    "        random_identity = random.choice(identities)\n",
    "        while random_identity == identity:  # Ensure the random identity is different from the current identity\n",
    "            random_identity = random.choice(identities)\n",
    "        random_caricature_folder = os.path.join('./ourcar/', f'{random_identity}_caricature')\n",
    "        random_caricature_images = os.listdir(random_caricature_folder)\n",
    "\n",
    "        # Shuffle the caricature images for consistency\n",
    "        random.seed(42)\n",
    "        random.shuffle(random_caricature_images)\n",
    "        mismatched_caricature_image = random_caricature_images[4]\n",
    "\n",
    "        # Write correct pair (5th real image vs 5th caricature from the same identity)\n",
    "        writer.writerow([os.path.join(real_folder, test_real_image), os.path.join(caricature_folder, test_caricature_image), 1])  # Label 1 for correct pair\n",
    "\n",
    "        # Write incorrect pair (5th real image vs 5th caricature from a different identity)\n",
    "        writer.writerow([os.path.join(real_folder, test_real_image), os.path.join(random_caricature_folder, mismatched_caricature_image), 0])  # Label 0 for incorrect pair\n"
   ]
  },
  {
   "cell_type": "code",
   "execution_count": null,
   "metadata": {},
   "outputs": [],
   "source": []
  }
 ],
 "metadata": {
  "kernelspec": {
   "display_name": "base",
   "language": "python",
   "name": "python3"
  },
  "language_info": {
   "codemirror_mode": {
    "name": "ipython",
    "version": 3
   },
   "file_extension": ".py",
   "mimetype": "text/x-python",
   "name": "python",
   "nbconvert_exporter": "python",
   "pygments_lexer": "ipython3",
   "version": "3.8.16"
  }
 },
 "nbformat": 4,
 "nbformat_minor": 2
}
